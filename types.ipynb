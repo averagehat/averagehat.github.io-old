{
 "cells": [
  {
   "cell_type": "markdown",
   "metadata": {
    "slideshow": {
     "slide_type": "slide"
    }
   },
   "source": [
    "### Some things with mypy: sum and product types\n",
    "[A recent pep](https://www.python.org/dev/peps/pep-0484/) solidifies type annotations in python 2 and 3.\n",
    "\n",
    "These type annotations are compatible with current versions of python. \n",
    "\n",
    "* They can be ignored altogether\n",
    "* used however you want (not for types) \n",
    "* used to typecheck your code with [mypy](github.com/python/mypyp).\n"
   ]
  },
  {
   "cell_type": "markdown",
   "metadata": {
    "slideshow": {
     "slide_type": "slide"
    }
   },
   "source": [
    "##mypy\n",
    "\n",
    "`mypy` enables static typing in python. \n",
    "\n",
    "* started as a statically typed language with python syntax\n",
    "* \"Gradual\" typing\n",
    "* compatible with python's type system\n",
    "* simliar in purpose to typescript/flow--not a compiler, for correctness"
   ]
  },
  {
   "cell_type": "code",
   "execution_count": 4,
   "metadata": {
    "collapsed": false,
    "slideshow": {
     "slide_type": "slide"
    }
   },
   "outputs": [
    {
     "data": {
      "text/plain": [
       "typing.Point"
      ]
     },
     "execution_count": 4,
     "metadata": {},
     "output_type": "execute_result"
    }
   ],
   "source": [
    "from typing import * \n",
    "List[float] # [1.0, 2.3]\n",
    "Tuple[int, str] # (1, \"foo\")\n",
    "Dict[str, bool] # {'a' : False}\n",
    "Callable[[List[int]],int] # lambda xs: sum(xs)/len(xs)\n",
    "NamedTuple(\"Point\", [('x', int), ('y', int)]) # Point(x=1, y=3)\n"
   ]
  },
  {
   "cell_type": "code",
   "execution_count": 1,
   "metadata": {
    "collapsed": true
   },
   "outputs": [],
   "source": [
    "Point3D = NamedTuple(\"Point3D\", [(\"x\", float), (\"y\", float), (\"z\", float)])"
   ]
  },
  {
   "cell_type": "markdown",
   "metadata": {},
   "source": [
    "If we wanted to use a simple tuple instead, we could declare that so:\n",
    "\n"
   ]
  },
  {
   "cell_type": "code",
   "execution_count": 2,
   "metadata": {
    "collapsed": true
   },
   "outputs": [],
   "source": [
    "Point3DTuple = Tuple[float, float, float]"
   ]
  },
  {
   "cell_type": "markdown",
   "metadata": {},
   "source": [
    "\n",
    "Let's look at what our named tuple can, and more importantly can't, do within mypy's type world. All the displayed errors\n",
    "are part of mypy's output, which provides the line of the error as well as an explanation. Keep in mind these are all erorrs caught before\n",
    "the program, or even any tests, are run. These errors can also be integrated with editors or IDEs to provde real-time feedback.\n",
    "\n",
    "It can be created and accessed just like `collections.namedtuple.`\n"
   ]
  },
  {
   "cell_type": "code",
   "execution_count": 3,
   "metadata": {
    "collapsed": true
   },
   "outputs": [],
   "source": [
    "point = Point3D(0, 1.0, 3.98)\n",
    "x = point.x\n",
    "y = point[1] # this typechecks, it probably shouldn't"
   ]
  },
  {
   "cell_type": "markdown",
   "metadata": {},
   "source": [
    "mypy knows how long the tuple is, and what types its members are!\n"
   ]
  },
  {
   "cell_type": "code",
   "execution_count": 4,
   "metadata": {
    "collapsed": true
   },
   "outputs": [],
   "source": [
    "r = point[99]\n",
    "foo.py:10: error: Tuple index out of range"
   ]
  },
  {
   "cell_type": "markdown",
   "metadata": {},
   "source": [
    "mypy enforces the safety of common operators. This avoids meaningless comparisons, for example, which are uncaught by python's runtime:\n"
   ]
  },
  {
   "cell_type": "code",
   "execution_count": 5,
   "metadata": {
    "collapsed": true
   },
   "outputs": [],
   "source": [
    ">>> \"foo\" > sys.maxint\n",
    "True # sure, why not?"
   ]
  },
  {
   "cell_type": "code",
   "execution_count": 6,
   "metadata": {
    "collapsed": true
   },
   "outputs": [],
   "source": [
    "point.x + \"Eureka\"\n",
    "foo.py:10: error: Unsupported operand types for + (\"float\" and \"str\")\n",
    "\n",
    "x = point.x # mypy infers the type after assignment\n",
    "\n",
    "x > \"Eureka\"\n",
    "foo.py:10: error: Unsupported operand types for > (\"float\" and \"str\")"
   ]
  },
  {
   "cell_type": "markdown",
   "metadata": {},
   "source": [
    "mypy limits attribute access:\n",
    "\n"
   ]
  },
  {
   "cell_type": "code",
   "execution_count": 7,
   "metadata": {
    "collapsed": true
   },
   "outputs": [],
   "source": [
    "sneaky = point.gecko\n",
    "foo.py:13: error: \"Point3D\" has no attribute \"gecko\""
   ]
  },
  {
   "cell_type": "markdown",
   "metadata": {},
   "source": [
    "mypy supports generics. A generic can be a lot of things; A `list`, an `Iterable`, or something equivalent to scala/java 8's `Option` type. If a generic is a collection, all elements of the collection must be of the same type. mypy comes equipped with a number of generic types; take for example `List`, which is an alias for the built-in `list`.\n"
   ]
  },
  {
   "cell_type": "code",
   "execution_count": 8,
   "metadata": {
    "collapsed": true
   },
   "outputs": [],
   "source": [
    "ListOfInts = List[int]"
   ]
  },
  {
   "cell_type": "markdown",
   "metadata": {},
   "source": [
    "\n",
    "You can also create types by subclassing `Generic`.\n"
   ]
  },
  {
   "cell_type": "code",
   "execution_count": 9,
   "metadata": {
    "collapsed": true
   },
   "outputs": [],
   "source": [
    "class Option(Generic[T]):\n",
    "    def getOrElse(t: T) -> T:\n",
    ". . ."
   ]
  },
  {
   "cell_type": "markdown",
   "metadata": {},
   "source": [
    "It's possible to use multiple type variables within a generic:\n"
   ]
  },
  {
   "cell_type": "code",
   "execution_count": 10,
   "metadata": {
    "collapsed": true
   },
   "outputs": [],
   "source": [
    "E = TypeVar(\"E\")\n",
    "V = TypeVar(\"V\")\n",
    "class Either(Generic[E,V]):\n",
    ". . . ."
   ]
  },
  {
   "cell_type": "markdown",
   "metadata": {},
   "source": [
    "\n",
    "Let's use `List` and `3DPoint` to create a more complex product type: `Robot Legs`.\n",
    "\n"
   ]
  },
  {
   "cell_type": "code",
   "execution_count": 11,
   "metadata": {
    "collapsed": true
   },
   "outputs": [],
   "source": [
    "RobotLegs = NamedTuple(\"RobotLegs\", [(\"leftLeg\", List[Point3D]), (\"rightLeg\", List[Point3D]), (\"color\", str)])"
   ]
  },
  {
   "cell_type": "markdown",
   "metadata": {},
   "source": [
    "Note that we've defined the field `color` as simply a string, allowing us to create robot legs with nonsense colors. It's also possible to create robot legs with negative integers for coordinates! We only want pastel colors, and robots which exist in the cartesian plane. \n"
   ]
  },
  {
   "cell_type": "code",
   "execution_count": 12,
   "metadata": {
    "collapsed": true
   },
   "outputs": [],
   "source": [
    "blueRobot = RobotLegs(points, points, \"fizbizzle\")"
   ]
  },
  {
   "cell_type": "markdown",
   "metadata": {},
   "source": [
    "Of course, we could check for this condition in the functions that use the color:\n"
   ]
  },
  {
   "cell_type": "code",
   "execution_count": 13,
   "metadata": {
    "collapsed": true
   },
   "outputs": [],
   "source": [
    "def getColor(legs: RobotLegs) -> int:\n",
    "    if legs.color not in [\"skyblue\", \"red\", \"white\"]:\n",
    "        raise ValueError(\"Invalid color %s\" % legs.color)\n",
    "    else:\n",
    ". . . ."
   ]
  },
  {
   "cell_type": "markdown",
   "metadata": {},
   "source": [
    "That's a hassle, and it's easy to forget to do these checks in every function. Instead, let's nip this in the bud. \n",
    "We really want to make it is easy on ourselves and be *really really sure* that we only have to validate our input once. We can do all the validation--cleaning up data from I/O, verifying it matches a certain shape, creating errors etc.--when we construct the instances of our types. That way all functions which accept those types are relieved from the obligation of checking themselves.\n"
   ]
  },
  {
   "cell_type": "code",
   "execution_count": 14,
   "metadata": {
    "collapsed": true
   },
   "outputs": [],
   "source": [
    "SkyBlue = NamedTuple(\"SkyBlue\", [])\n",
    "PastelRed = NamedTuple(\"PastelRed\", [])\n",
    "White = NamedTuple(\"White\", [])\n",
    "\n",
    "Color = Union[Blue, PastelRed, White]\n",
    "\n",
    "RobotLegs = NamedTuple(\"RobotLegs\", [(\"leftLeg\", List[Point3D]), (\"rightLeg\", List[Point3D]), (\"color\", Color)])"
   ]
  },
  {
   "cell_type": "markdown",
   "metadata": {},
   "source": [
    "Now we can be assured that our color is one of the primaries (always a good starting pint for giant robots), so we don't have to worry about validating our data again!\n",
    "\n"
   ]
  },
  {
   "cell_type": "code",
   "execution_count": 15,
   "metadata": {
    "collapsed": true
   },
   "outputs": [],
   "source": [
    "def getColor(legs: RobotLegs) -> int:\n",
    "    if legs.color == SkyBlue():  return 0x87CEFA \n",
    "if isinstance(legs.color, SkyBlue): return  0x87CEFA # this is equivalent"
   ]
  },
  {
   "cell_type": "markdown",
   "metadata": {},
   "source": [
    "\n",
    "We can even safely use a statically typed dictionary which never raise a KeyErorr:\n"
   ]
  },
  {
   "cell_type": "code",
   "execution_count": 16,
   "metadata": {
    "collapsed": true
   },
   "outputs": [],
   "source": [
    "colors = { SkyBlue() : 0x87CEFA } # type: Dict[Color,int]\n",
    ". . . ."
   ]
  },
  {
   "cell_type": "markdown",
   "metadata": {},
   "source": [
    "Now, let's make sure the 3D coordinates are valid. For this, we'll need something more powerful than a simple `NamedTuple`. We'll want to refuse all non-positive input. But note that a traditional python class won't be safe because python classes are mutable by default! It doesn't do much good to make a safe `3DPoint` if one can simply overwrite its attributes. But we can create more complex immutable objects in python:\n",
    "\n"
   ]
  },
  {
   "cell_type": "code",
   "execution_count": 17,
   "metadata": {
    "collapsed": true
   },
   "outputs": [],
   "source": [
    "class Coordinate(object):\n",
    "    def __new__(self, x: float, y: float, z: float) -> Point3D:\n",
    "        assert x >= 0 and y >= 0 and z >= 0\n",
    "return Point3D(x, y, z)"
   ]
  },
  {
   "cell_type": "markdown",
   "metadata": {},
   "source": [
    "\n",
    "In fact it's possible to use this technique to *guarantee* that our function will only ever get valid input. It's only possible to construct the sum type of `RobotLegs` through the union type of `Color`; `Color` is by definition one of `Blue`, `Red`. . . and points\n",
    "In languages with the concept of private constructors, it's possible to *guarantee* that a RobotLegs cannot be created an invalid state--and therefore that `getColor` can never be passed invalid data--by making the `RobotLegs` constructor private. Unfortunately, we can only document the `make3DCoordinates` function as the point of entry for our API--we can't exclude the constructor as private.\n",
    "\n",
    "Note that the assurance offered by static typing is significantly stronger than the contract offered by ducked typing. If we simply accepted an object with `leftLeg` `rightLeg` and `color` as a RobotLeg, we'd have no guarantees that these fields were valid, or even that they were the expected type!\n",
    "\n",
    "`Color` is a very simple Union type, analogous to the \"Enums\" of other languages (including python 3), while providing additional safety. Bution union types are more powerful; it's possible to create a union type out of product types, and model arbitrary complex \n",
    "systems this way. You can think of these types as representing the \"set of all possible inputs and outputs\" and functions accepting these types as representing the \"cobminators\" or \"all the things I can ever do with my inputs\". Together, these form a sort of \"algebra\" that represents your domain. In the domain of giant robots:\n",
    "\n"
   ]
  },
  {
   "cell_type": "code",
   "execution_count": 18,
   "metadata": {
    "collapsed": true
   },
   "outputs": [],
   "source": [
    "Rifle = NamedTuple('Rifle', [('ammo' , int), ('model' , str)])\n",
    "Knife = NamedTuple('Knife', [('shape' , List[Coordinate]), ('thatsNotAKnife', bool)])\n",
    "\n",
    "weapon = Union[Rifle, Knife]\n",
    "\n",
    "RobotLegs = NamedTuple(\"RobotArms\", [(\"leftArm\", List[Coordinate]), (\"rightArm\", List[Coordinate]), (\"color\", Color)])\n",
    "\n",
    "GiantRobot = NamedTuple('GiantRobot', [('weapon', Weapon), ('legs' , RobotLegs), ('arms', RobotArms)])\n",
    "\n",
    "def canFight(robot: GiantRobot) -> bool:\n",
    "    if isinstance(robot.weapon, Rifle):\n",
    "        return robot.weapon.ammo > 0\n",
    "    else: \n",
    "return not robot.weapon.thatsNotAKnife # this is a knife"
   ]
  },
  {
   "cell_type": "markdown",
   "metadata": {},
   "source": [
    "The `isinstance` check tells mypy that `robot.weapon` is specifically a rifle, and therefore has an `ammo` field of type `int`. Without that check, we get a nifty error from mypy--and find out before testing, running, or deploying:\n"
   ]
  },
  {
   "cell_type": "code",
   "execution_count": 19,
   "metadata": {
    "collapsed": true
   },
   "outputs": [],
   "source": [
    "foo.py: note: In function \"canFight\":\n",
    "foo.py:35: error: Some element of union has no attribute \"ammo\""
   ]
  },
  {
   "cell_type": "markdown",
   "metadata": {},
   "source": [
    "Great! we've created an API that's clear, self-documenting, and compartively safe. We've provided some limited guarantees of correctness;\n",
    "and our domain is well-defined, which will help us reason about our past and future code moving forward.\n",
    "mypy is a growing project; it's still in an early stage and being actively developed. It's become an official\n",
    "part of they [python](github.com/python) flock as the definitive optional typechecker; it's got the [backing](https://github.com/python/mypy/issues/1276#issuecomment-192981427)\n",
    "and [involvement](https://github.com/python/mypy/pull/1277) of [python's creator](https://en.wikipedia.org/wiki/Guido_van_Rossum).\n",
    "\n",
    "Although mypy is still in active development, it can be a profitable tool right now. It's not a compiler, and it never touches\n",
    "your code, so it can be used without much concern for bugs. It takes some extra time to annotate python with types--I've demonstrated\n",
    "some of the strengths of its type inference, but it's necessary to annotate some things like lambda expressions, for example.\n",
    "It's well worth the effort to document and verify your code in one way or another--mypy is another excellent tool for this purpose.\n"
   ]
  }
 ],
 "metadata": {
  "celltoolbar": "Slideshow",
  "kernelspec": {
   "display_name": "Python 3",
   "language": "python",
   "name": "python3"
  },
  "language_info": {
   "codemirror_mode": {
    "name": "ipython",
    "version": 3
   },
   "file_extension": ".py",
   "mimetype": "text/x-python",
   "name": "python",
   "nbconvert_exporter": "python",
   "pygments_lexer": "ipython3",
   "version": "3.4.4"
  }
 },
 "nbformat": 4,
 "nbformat_minor": 0
}
